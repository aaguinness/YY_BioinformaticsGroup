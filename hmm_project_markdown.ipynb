{
 "cells": [
  {
   "cell_type": "markdown",
   "metadata": {},
   "source": [
    "###BLAST: identifying genes encoded by 6 differentially expressed transcripts\n",
    "\n",
    "1. The Six transcripts are found in the file: <font color=blue>uniquetranscripts.fasta</font>\n",
    "2. We did a standard megablast using the nucleotide database for each of the 6 transcripts. \n",
    "3. Megablast hit results were downloaded for each transcript and are found in the folder: <font color=blue>uniquetranscripts.fasta</font>\n",
    "\n",
    "\n"
   ]
  },
  {
   "cell_type": "markdown",
   "metadata": {},
   "source": []
  },
  {
   "cell_type": "code",
   "execution_count": null,
   "metadata": {
    "collapsed": true
   },
   "outputs": [],
   "source": []
  }
 ],
 "metadata": {
  "kernelspec": {
   "display_name": "Python 2",
   "language": "python",
   "name": "python2"
  },
  "language_info": {
   "codemirror_mode": {
    "name": "ipython",
    "version": 2
   },
   "file_extension": ".py",
   "mimetype": "text/x-python",
   "name": "python",
   "nbconvert_exporter": "python",
   "pygments_lexer": "ipython2",
   "version": "2.7.13"
  }
 },
 "nbformat": 4,
 "nbformat_minor": 1
}
