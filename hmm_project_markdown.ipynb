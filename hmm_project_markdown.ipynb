{
 "cells": [
  {
   "cell_type": "markdown",
   "metadata": {},
   "source": [
    "### BLAST: identifying genes encoded by 6 differentially expressed transcripts\n",
    "\n",
    "1. The Six transcripts are found in the in the folder: <font color=green>megablast_hits</font> file: <font color=blue>uniquetranscripts.fasta</font>\n",
    "2. We did a standard megablast using the nucleotide database for each of the 6 transcripts. \n",
    "3. Megablast hit results were downloaded for each transcript and are found in the folder: <font color=green>megablast_hits</font>\n",
    "4. We wrote a shell script to select the top hit from each hit table found in the folder <font color=green>megablast_hits</font> called <font color=red>topHits.sh</font>\n",
    "5. The shell script wrote a .fasta file called <font color=blue>topHits</font> in the folder <font color=green>megablast_hits</font>\n",
    "\n",
    "\n",
    "\n"
   ]
  },
  {
   "cell_type": "markdown",
   "metadata": {},
   "source": [
    "### Search the NCBI protein database for amino acid sequences corresponding to these 6 transcripts. \n",
    "\n",
    "1. Protein searched for each of the top hitprotien names in the .fasta file called <font color=blue>topHits</font> in the folder <font color=green>megablast_hits</font>. Made sure to filter proteins for animals only and selected 10 protien sequences from closely related animals. \n",
    "2. These 6 .fasta files were saved in the folder called <font color=green>NCBI_protien_search_results</font>\n"
   ]
  },
  {
   "cell_type": "markdown",
   "metadata": {
    "collapsed": true
   },
   "source": [
    "### Translate RNA Seq Data\n",
    "1. We wrote a python script called <font color=red>Translate_Updated_Final.py</font> located in the folder called <font color=green>RNA_seq_translation</font>\n",
    "2. For each .fasta file in the directory the script translates the first reading frame starting at the start codon and ends at the stop codon. The translated sequences are thwn written to new .fasta files.\n",
    "3. See notes in the python script for its specific use."
   ]
  },
  {
   "cell_type": "markdown",
   "metadata": {},
   "source": [
    "### HMM modeling\n",
    "\n",
    "For the HMM modeling portion we created a bash script called <font color=red>proj_hmm_final.sh</font> located in the folder called <font color=green>NCBI_protien_search_results</font>. \n",
    "1. This shell script first aligned the downloaded .fasta protein sequences from the NCBI the original sequences found in <font color=green>NCBI_protien_search_results</font> and then saved new aligned .fasta files to the subfolder <font color=green>NCBI_protien_search_results/align</font>\n",
    "2. The script then constructed 6 HMM protien models with hmmbuild and stored the .hmm models in the subfolder <font color=green>NCBI_protien_search_results/hmm</font>\n",
    "3. The script then hmmsearched the 4 translated RNAseq .fasta files in <font color=green>RNA_seq_translation</font> with each of the 6 HMM protein models in <font color=green>NCBI_protien_search_results/hmm</font>. \n",
    "4. For each model a sequence hits file and a sequence hits table were generated and stored in the subdirectory <font color=green>NCBI_protien_search_results/hits_table</font>."
   ]
  },
  {
   "cell_type": "markdown",
   "metadata": {},
   "source": [
    "### Graph the expression levels"
   ]
  },
  {
   "cell_type": "code",
   "execution_count": null,
   "metadata": {
    "collapsed": true
   },
   "outputs": [],
   "source": [
    "#load packages\n",
    "import pandas as pd\n",
    "from plotnine import *\n",
    "\n",
    "#read in hmm search output files and add column names for ggplot\n",
    "Transcript1 = pd.read_csv(\"1.sequences.table\", sep=' ', header=None)\n",
    "Transcript1.columns = [\"Mouse\", \"Match sequence\", \"Score\"]\n",
    "Transcript2 = pd.read_csv(\"2.sequences.table\", sep=' ', header=None)\n",
    "Transcript2.columns = [\"Mouse\", \"Match sequence\", \"Score\"]\n",
    "Transcript6 = pd.read_csv(\"6.sequences.table\", sep=' ', header=None)\n",
    "Transcript6.columns = [\"Mouse\", \"Match sequence\", \"Score\"]\n",
    "Transcript8 = pd.read_csv(\"8.sequences.table\", sep=' ', header=None)\n",
    "Transcript8.columns = [\"Mouse\", \"Match sequence\", \"Score\"]\n",
    "Transcript9 = pd.read_csv(\"9.sequences.table\", sep=' ', header=None)\n",
    "Transcript9.columns = [\"Mouse\", \"Match sequence\", \"Score\"]\n",
    "Transcript10 = pd.read_csv(\"10.sequences.table\", sep=' ', header=None)\n",
    "Transcript10.columns = [\"Mouse\", \"Match sequence\", \"Score\"]\n",
    "\n",
    "#Plot of Expression for each transcript based on mouse identity\n",
    "expressionT1 = (ggplot(Transcript1,aes(x=\"Mouse\"))\n",
    "    +geom_bar(fill='red')\n",
    "    +ggtitle(\"Gsta2\")\n",
    "    +ylab(\"Relative Expression\")\n",
    "    +theme_classic())\n",
    "expressionT2 = (ggplot(Transcript2,aes(x=\"Mouse\"))\n",
    "    +geom_bar(fill='orange')\n",
    "    +ggtitle(\"Scl7a12\")\n",
    "    +ylab(\"Relative Expression\")\n",
    "    +theme_classic())\n",
    "expressionT6 = (ggplot(Transcript6,aes(x=\"Mouse\"))\n",
    "    +geom_bar(fill='yellow')\n",
    "    +ggtitle(\"Ptpn5\")\n",
    "    +ylab(\"Relative Expression\")\n",
    "    +theme_classic())\n",
    "expressionT8 = (ggplot(Transcript8,aes(x=\"Mouse\"))\n",
    "    +geom_bar(fill='green')\n",
    "    +ggtitle(\"ATP12a\")\n",
    "    +ylab(\"Relative Expression\")\n",
    "    +theme_classic())\n",
    "expressionT9 = (ggplot(Transcript9,aes(x=\"Mouse\"))\n",
    "    +geom_bar(fill='blue')\n",
    "    +ggtitle(\"Lhx2\")\n",
    "    +ylab(\"Relative Expression\")\n",
    "    +theme_classic())\n",
    "expressionT10 = (ggplot(Transcript10,aes(x=\"Mouse\"))\n",
    "    +geom_bar(fill='purple')\n",
    "    +ggtitle(\"Synpr\")\n",
    "    +ylab(\"Relative Expression\")\n",
    "    +theme_classic())\n",
    "print(expressionT1)\n",
    "print(expressionT2)\n",
    "print(expressionT6)\n",
    "print(expressionT8)\n",
    "print(expressionT9)\n",
    "print(expressionT10)"
   ]
  },
  {
   "cell_type": "code",
   "execution_count": null,
   "metadata": {
    "collapsed": true
   },
   "outputs": [],
   "source": []
  }
 ],
 "metadata": {
  "kernelspec": {
   "display_name": "Python 2",
   "language": "python",
   "name": "python2"
  },
  "language_info": {
   "codemirror_mode": {
    "name": "ipython",
    "version": 2
   },
   "file_extension": ".py",
   "mimetype": "text/x-python",
   "name": "python",
   "nbconvert_exporter": "python",
   "pygments_lexer": "ipython2",
   "version": "2.7.13"
  }
 },
 "nbformat": 4,
 "nbformat_minor": 1
}
