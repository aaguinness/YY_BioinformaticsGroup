{
 "cells": [
  {
   "cell_type": "markdown",
   "metadata": {},
   "source": [
    "### BLAST: identifying genes encoded by 6 differentially expressed transcripts\n",
    "\n",
    "1. The Six transcripts are found in the in the folder: <font color=green>megablast_hits</font> file: <font color=blue>uniquetranscripts.fasta</font>\n",
    "2. We did a standard megablast using the nucleotide database for each of the 6 transcripts. \n",
    "3. Megablast hit results were downloaded for each transcript and are found in the folder: <font color=green>megablast_hits</font>\n",
    "4. We wrote a shell script to select the top hit from each hit table found in the folder <font color=green>megablast_hits</font> called <font color=red>topHits.sh</font>\n",
    "5. The shell script wrote a .fasta file called <font color=blue>topHits</font> in the folder <font color=green>megablast_hits</font>\n",
    "\n",
    "\n",
    "\n"
   ]
  },
  {
   "cell_type": "markdown",
   "metadata": {},
   "source": [
    "### Search the NCBI protein database for amino acid sequences corresponding to these 6 transcripts. \n",
    "\n",
    "1. Protein searched for each of the top hitprotien names in the .fasta file called <font color=blue>topHits</font> in the folder <font color=green>megablast_hits</font>. Made sure to filter proteins for animals only and selected 10 protien sequences from closely related animals. \n",
    "2. These 6 .fasta files were saved in the folder called <font color=green>protein_blast_results</font>\n"
   ]
  },
  {
   "cell_type": "markdown",
   "metadata": {
    "collapsed": true
   },
   "source": []
  },
  {
   "cell_type": "code",
   "execution_count": null,
   "metadata": {
    "collapsed": true
   },
   "outputs": [],
   "source": []
  }
 ],
 "metadata": {
  "kernelspec": {
   "display_name": "Python 2",
   "language": "python",
   "name": "python2"
  },
  "language_info": {
   "codemirror_mode": {
    "name": "ipython",
    "version": 2
   },
   "file_extension": ".py",
   "mimetype": "text/x-python",
   "name": "python",
   "nbconvert_exporter": "python",
   "pygments_lexer": "ipython2",
   "version": "2.7.13"
  }
 },
 "nbformat": 4,
 "nbformat_minor": 1
}
